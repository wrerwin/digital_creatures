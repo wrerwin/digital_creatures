{
 "cells": [
  {
   "cell_type": "markdown",
   "metadata": {},
   "source": [
    "# Goal and functionality of algorithm\n",
    "Initiate organisms and watch them respond to stimuli through time. After a fixed number of time-steps, a reproduction condition triggers. Upon reproduction, the organisms which meet reproduction condition(s) reproduce (with a chance for mutation), all of the previous generation dies. This sequence repeats indefinitely. \n",
    "\n",
    "\n",
    "# Steps for a single generation\n",
    "1. Initiate world (including state of n organisms) at t = 0\n",
    "2. Allow organisms to perceive their situation and make a decision as to what to do. Taking action if applicable\n",
    "3. Repeat step 2 for all timesteps\n",
    "\n",
    "# Inter-generational steps\n",
    "1. Run a single generation\n",
    "2. Evaluate and execute reproduction condition. Reproduction should enable both passing of genetic information as well as the addition of new genetic information through mutation.\n",
    "3. Repeat step 2 for n generations\n"
   ]
  },
  {
   "cell_type": "code",
   "execution_count": 1,
   "metadata": {},
   "outputs": [],
   "source": [
    "from organism import organism, world\n",
    "        "
   ]
  },
  {
   "cell_type": "code",
   "execution_count": 7,
   "metadata": {},
   "outputs": [],
   "source": [
    "new_world = world(n_organisms = 100)                        "
   ]
  },
  {
   "cell_type": "code",
   "execution_count": 8,
   "metadata": {},
   "outputs": [],
   "source": [
    "list_of_organisms = new_world.organism_states\n",
    "x_coords = []\n",
    "y_coords = []\n",
    "for organism in list_of_organisms:\n",
    "    x_coords.append(organism.x)\n",
    "    y_coords.append(organism.y)"
   ]
  },
  {
   "cell_type": "code",
   "execution_count": 9,
   "metadata": {},
   "outputs": [
    {
     "data": {
      "text/plain": [
       "<matplotlib.collections.PathCollection at 0x225ec487d08>"
      ]
     },
     "execution_count": 9,
     "metadata": {},
     "output_type": "execute_result"
    },
    {
     "data": {
      "image/png": "[encoded data removed]",
      "text/plain": [
       "<Figure size 432x288 with 1 Axes>"
      ]
     },
     "metadata": {
      "needs_background": "light"
     },
     "output_type": "display_data"
    }
   ],
   "source": [
    "import matplotlib.pyplot as plt\n",
    "plt.scatter(x_coords,y_coords)"
   ]
  },
  {
   "cell_type": "code",
   "execution_count": null,
   "metadata": {},
   "outputs": [],
   "source": [
    "#TODO: build a generation by looping over timesteps and reproducing\n",
    "\n",
    "n_timesteps = 1000\n",
    "for time in range(n_timesteps):\n",
    "    new_world.update_organisms()\n",
    "new_world.reproduce_organisms()"
   ]
  }
 ],
 "metadata": {
  "interpreter": {
   "hash": "31f2aee4e71d21fbe5cf8b01ff0e069b9275f58929596ceb00d14d90e3e16cd6"
  },
  "kernelspec": {
   "display_name": "tf-gpu",
   "language": "python",
   "name": "tf-gpu"
  },
  "language_info": {
   "codemirror_mode": {
    "name": "ipython",
    "version": 3
   },
   "file_extension": ".py",
   "mimetype": "text/x-python",
   "name": "python",
   "nbconvert_exporter": "python",
   "pygments_lexer": "ipython3",
   "version": "3.7.6"
  }
 },
 "nbformat": 4,
 "nbformat_minor": 2
}
