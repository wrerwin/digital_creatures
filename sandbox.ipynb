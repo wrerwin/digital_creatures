{
 "cells": [
  {
   "cell_type": "markdown",
   "metadata": {},
   "source": [
    "# Goal and functionality of algorithm\n",
    "Initiate organisms and watch them respond to stimuli through time. After a fixed number of time-steps, a reproduction condition triggers. Upon reproduction, the organisms which meet reproduction condition(s) reproduce (with a chance for mutation), all of the previous generation dies. This sequence repeats indefinitely. \n",
    "\n",
    "\n",
    "# Steps for a single generation\n",
    "1. Initiate world (including state of n organisms) at t = 0\n",
    "2. Allow organisms to perceive their situation and make a decision as to what to do. Taking action if applicable\n",
    "3. Repeat step 2 for all timesteps\n",
    "\n",
    "# Inter-generational steps\n",
    "1. Run a single generation\n",
    "2. Evaluate and execute reproduction condition. Reproduction should enable both passing of genetic information as well as the addition of new genetic information through mutation.\n",
    "3. Repeat step 2 for n generations\n"
   ]
  },
  {
   "cell_type": "markdown",
   "metadata": {},
   "source": [
    "# What does the MVP look like?\n",
    "- organisms have a small number of neurons that map to some perception/action workflow\n",
    "    - does this always need to look like [perception] -> [action]\n",
    "- organisms can update state based on some perception of the world\n",
    "- a population of organisms can reproduce based on some condition\n",
    "- organisms can evolve (including passing genes and random mutations)\n"
   ]
  },
  {
   "cell_type": "code",
   "execution_count": 1,
   "metadata": {},
   "outputs": [],
   "source": [
    "from organism import world,organism\n",
    "import matplotlib.pyplot as plt"
   ]
  },
  {
   "cell_type": "code",
   "execution_count": 2,
   "metadata": {},
   "outputs": [
    {
     "data": {
      "text/plain": [
       "<matplotlib.collections.PathCollection at 0x7f923e45a100>"
      ]
     },
     "execution_count": 2,
     "metadata": {},
     "output_type": "execute_result"
    },
    {
     "data": {
      "image/png": "[encoded data removed]",
      "text/plain": [
       "<Figure size 432x288 with 1 Axes>"
      ]
     },
     "metadata": {
      "needs_background": "light"
     },
     "output_type": "display_data"
    }
   ],
   "source": [
    "\n",
    "new_world = world(n_organisms = 100)       \n",
    "list_of_organisms = new_world.organism_states\n",
    "x_coords = []\n",
    "y_coords = []\n",
    "\n",
    "for organism_obj in list_of_organisms:\n",
    "    x_coords.append(organism_obj.x)\n",
    "    y_coords.append(organism_obj.y)\n",
    "\n",
    "import matplotlib.pyplot as plt\n",
    "plt.scatter(x_coords,y_coords)"
   ]
  },
  {
   "cell_type": "code",
   "execution_count": null,
   "metadata": {},
   "outputs": [],
   "source": [
    "! matplotlib.pyplot inline\n",
    "timesteps = 10\n",
    "dx = 1\n",
    "dy = -1\n",
    "\n",
    "for t in range(timesteps):\n",
    "    x_coords = []\n",
    "    y_coords = []\n",
    "    for i,_ in enumerate(list_of_organisms):\n",
    "        list_of_organisms[i].move(dx,dy)\n",
    "        x_coords.append(list_of_organisms[i].x)\n",
    "        y_coords.append(list_of_organisms[i].y)\n",
    "    \n",
    "    plt.scatter(x_coords,y_coords)\n",
    "    plt.show()\n",
    "    time.sleep(2)\n",
    "    plt.clf()\n"
   ]
  },
  {
   "cell_type": "code",
   "execution_count": null,
   "metadata": {},
   "outputs": [],
   "source": [
    "org1 = organism()"
   ]
  },
  {
   "cell_type": "code",
   "execution_count": null,
   "metadata": {},
   "outputs": [],
   "source": [
    "# test perceive\n",
    "knowledge = org1.perceive()\n",
    "print(knowledge)"
   ]
  },
  {
   "cell_type": "code",
   "execution_count": null,
   "metadata": {},
   "outputs": [],
   "source": [
    "# test move\n",
    "for i in range(10):\n",
    "\n",
    "    org1.move(dx,dy)\n",
    "    print(org1.x)\n",
    "    print(org1.y)\n"
   ]
  },
  {
   "cell_type": "code",
   "execution_count": null,
   "metadata": {},
   "outputs": [],
   "source": [
    "\n"
   ]
  },
  {
   "cell_type": "code",
   "execution_count": null,
   "metadata": {},
   "outputs": [],
   "source": []
  },
  {
   "cell_type": "code",
   "execution_count": null,
   "metadata": {},
   "outputs": [],
   "source": [
    "# define the entire neural network (map all inputs to all outputs) and use the genes to define weights\n"
   ]
  },
  {
   "cell_type": "code",
   "execution_count": null,
   "metadata": {},
   "outputs": [],
   "source": []
  }
 ],
 "metadata": {
  "interpreter": {
   "hash": "ba53bbe8deb1e05edea282724576d4ca48f2d727aa0b1af2066f98d6d42c95ce"
  },
  "kernelspec": {
   "display_name": "tf-gpu",
   "language": "python",
   "name": "python3"
  },
  "language_info": {
   "codemirror_mode": {
    "name": "ipython",
    "version": 3
   },
   "file_extension": ".py",
   "mimetype": "text/x-python",
   "name": "python",
   "nbconvert_exporter": "python",
   "pygments_lexer": "ipython3",
   "version": "3.9.7"
  }
 },
 "nbformat": 4,
 "nbformat_minor": 2
}
